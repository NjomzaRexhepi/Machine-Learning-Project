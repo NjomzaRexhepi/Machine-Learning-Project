{
 "cells": [
  {
   "metadata": {},
   "cell_type": "code",
   "outputs": [],
   "execution_count": null,
   "source": [
    "import pandas as pd\n",
    "import numpy as np\n",
    "import re\n",
    "import matplotlib.pyplot as plt\n",
    "import seaborn as sns\n",
    "from tabulate import tabulate\n",
    "import missingno as msno\n",
    "from scipy import stats\n",
    "from sklearn.linear_model import LinearRegression\n",
    "from sklearn.ensemble import RandomForestRegressor\n",
    "from sklearn.preprocessing import StandardScaler\n",
    "\n"
   ],
   "id": "4f742f45960052a2"
  },
  {
   "metadata": {},
   "cell_type": "code",
   "outputs": [],
   "execution_count": null,
   "source": [
    "df = pd.read_excel('Open_DATA_Import Janar-Dhjetor-2024.xlsx', sheet_name='IMPORT_1')\n",
    "df.head()"
   ],
   "id": "133a2a3af40452e5"
  },
  {
   "metadata": {},
   "cell_type": "markdown",
   "source": "# Dataset Description",
   "id": "c0344be4b6ec8f84"
  },
  {
   "metadata": {},
   "cell_type": "markdown",
   "source": [
    "| **Column**         | **Description**                                                                 |\n",
    "|---------------------|---------------------------------------------------------------------------------|\n",
    "| **VITI**           | Year of the transaction.                                                        |\n",
    "| **MUAJI**          | Month of the transaction.                                                       |\n",
    "| **Regjimi**        | Customs regime applied to the transaction.                                      |\n",
    "| **Origjina**       | Country or region of origin of the goods.                                       |\n",
    "| **Kodi Tarifor**   | Tariff code (HS code) classifying the goods.                                    |\n",
    "| **Sasia**          | Quantity of goods traded.                                                       |\n",
    "| **Vlera Mallrave** | Monetary value of the goods.                                                    |\n",
    "| **Netweight**      | Net weight of the goods (excluding packaging).                                  |\n",
    "| **Taksa Doganës**  | Customs duty applied to the goods.                                              |\n",
    "| **Taksa Akcizës**  | Excise duty applied to specific goods (e.g., alcohol, tobacco).                 |\n",
    "| **Taksa TVSH-së**  | Value Added Tax (VAT) applied to the goods.                                     |"
   ],
   "id": "b2c527fd188621e7"
  },
  {
   "metadata": {},
   "cell_type": "markdown",
   "source": "# Data inspect",
   "id": "241a1b2d64ecea3d"
  },
  {
   "metadata": {},
   "cell_type": "code",
   "outputs": [],
   "execution_count": null,
   "source": "print(df.info)",
   "id": "fad2c928f21c6d39"
  },
  {
   "metadata": {},
   "cell_type": "markdown",
   "source": [
    "The dataset contains **233,638 entries (rows)** and **11 columns**.\n",
    "The columns are of different data types:\n",
    "- **Integer (int64):** `VITI`, `MUAJI`\n",
    "- **Float (float64):** `Sasia`, `Vlera Mallrave`, `Netweight`, `Taksa Doganës`, `Taksa Akcizës`, `Taksa TVSH-së`\n",
    "- **Object (string/categorical):** `Regjimi`, `Origjina`, `Kodi Tarifor`\n"
   ],
   "id": "5ad38737dda42b34"
  },
  {
   "metadata": {},
   "cell_type": "code",
   "outputs": [],
   "execution_count": null,
   "source": "df.describe()",
   "id": "6812c75022c481b3"
  },
  {
   "metadata": {},
   "cell_type": "markdown",
   "source": [
    "#### **Count:**\n",
    "- All columns (`VITI`, `MUAJI`, `Sasia`, `Vlera Mallrave`, `Netweight`, `Taksa Doganës`, `Taksa Akcizës`, `Taksa TVSH-së`) have **233,638 non-null entries**, except for `Sasia`, which has **72,943 non-null entries**. This indicates that the `Sasia` column has a significant number of missing values.\n",
    "\n",
    "---\n",
    "\n",
    "#### **Mean:**\n",
    "- **`VITI`:** The mean value is **2024.0**, indicating that all transactions occurred in the year 2024.\n",
    "- **`MUAJI`:** The mean value is **6.63**, suggesting that the average month of transactions is around June/July.\n",
    "- **`Sasia`:** The mean quantity of goods traded is **27,979.52**, indicating a large volume of goods on average.\n",
    "- **`Vlera Mallrave`:** The mean value of goods is **27,086.81**, showing a high average monetary value per transaction.\n",
    "- **`Netweight`:** The mean net weight of goods is **23,324.68**, indicating heavy shipments on average.\n",
    "- **`Taksa Doganës`:** The mean customs duty is **719.66**, suggesting moderate tax rates on average.\n",
    "- **`Taksa Akcizës`:** The mean excise duty is **2,621.70**, indicating higher taxes on specific goods (e.g., alcohol, tobacco).\n",
    "- **`Taksa TVSH-së`:** The mean VAT is **4,395.68**, showing a significant tax burden on goods.\n",
    "\n",
    "---\n",
    "\n",
    "#### **Standard Deviation (std):**\n",
    "- **`VITI`:** The standard deviation is **0.0**, confirming that all transactions occurred in the same year (2024).\n",
    "- **`MUAJI`:** The standard deviation is **3.44**, indicating moderate variability in the month of transactions.\n",
    "- **`Sasia`:** The standard deviation is **635,763.40**, showing extremely high variability in the quantity of goods traded.\n",
    "- **`Vlera Mallrave`:** The standard deviation is **252,921.97**, indicating high variability in the value of goods.\n",
    "- **`Netweight`:** The standard deviation is **440,532.40**, showing extremely high variability in the net weight of goods.\n",
    "- **`Taksa Doganës`:** The standard deviation is **9,445.22**, indicating significant variability in customs duties.\n",
    "- **`Taksa Akcizës`:** The standard deviation is **129,111.77**, showing extremely high variability in excise duties.\n",
    "- **`Taksa TVSH-së`:** The standard deviation is **60,603.43**, indicating significant variability in VAT.\n",
    "\n",
    "---\n",
    "\n",
    "#### **Minimum (min):**\n",
    "- **`VITI`:** The minimum value is **2024**, confirming that all transactions occurred in 2024.\n",
    "- **`MUAJI`:** The minimum value is **1**, indicating transactions occurred as early as January.\n",
    "- **`Sasia`:** The minimum quantity of goods traded is **0.01**, showing very small transactions.\n",
    "- **`Vlera Mallrave`:** The minimum value of goods is **0.0**, indicating some transactions have no monetary value.\n",
    "- **`Netweight`:** The minimum net weight is **0.005**, showing very light shipments.\n",
    "- **`Taksa Doganës`:** The minimum customs duty is **0.0**, indicating some transactions are duty-free.\n",
    "- **`Taksa Akcizës`:** The minimum excise duty is **0.0**, indicating some goods are exempt from excise tax.\n",
    "- **`Taksa TVSH-së`:** The minimum VAT is **0.0**, indicating some transactions are VAT-free.\n",
    "\n",
    "---\n",
    "\n",
    "#### **Quartiles (25%, 50%, 75%):**\n",
    "- **`MUAJI`:**\n",
    "  - 25% of transactions occurred by **April**, 50% by **July**, and 75% by **October**.\n",
    "- **`Sasia`:**\n",
    "  - 25% of transactions involve **4.06** units, 50% involve **41.0** units, and 75% involve **593.92** units.\n",
    "- **`Vlera Mallrave`:**\n",
    "  - 25% of transactions have a value of **242.5**, 50% have **1,564.37**, and 75% have **9,675.28**.\n",
    "- **`Netweight`:**\n",
    "  - 25% of shipments weigh **10.0**, 50% weigh **132.0**, and 75% weigh **1,782.90**.\n",
    "- **`Taksa Doganës`:**\n",
    "  - 25% of transactions have **0.0** customs duty, 50% have **5.89**, and 75% have **99.61**.\n",
    "- **`Taksa Akcizës`:**\n",
    "  - 25% of transactions have **0.0** excise duty, 50% have **0.0**, and 75% have **0.0**, indicating that most transactions are exempt from excise tax.\n",
    "- **`Taksa TVSH-së`:**\n",
    "  - 25% of transactions have **27.98** VAT, 50% have **201.96**, and 75% have **1,306.48**.\n",
    "\n",
    "---\n",
    "\n",
    "#### **Maximum (max):**\n",
    "- **`VITI`:** The maximum value is **2024**, confirming all transactions occurred in 2024.\n",
    "- **`MUAJI`:** The maximum value is **12**, indicating transactions occurred as late as December.\n",
    "- **`Sasia`:** The maximum quantity of goods traded is **63,154,738.5**, indicating extremely large transactions.\n",
    "- **`Vlera Mallrave`:** The maximum value of goods is **37,721,159.11**, indicating extremely high-value transactions.\n",
    "- **`Netweight`:** The maximum net weight is **51,457,733.0**, indicating extremely heavy shipments.\n",
    "- **`Taksa Doganës`:** The maximum customs duty is **1,015,552.62**, indicating very high tax rates for some transactions.\n",
    "- **`Taksa Akcizës`:** The maximum excise duty is **22,565,098.44**, indicating extremely high taxes on specific goods.\n",
    "- **`Taksa TVSH-së`:** The maximum VAT is **10,849,397.86**, indicating very high VAT for some transactions."
   ],
   "id": "97e530c804448e47"
  },
  {
   "metadata": {},
   "cell_type": "code",
   "outputs": [],
   "execution_count": null,
   "source": "df.shape",
   "id": "433f049c58974852"
  },
  {
   "metadata": {},
   "cell_type": "markdown",
   "source": [
    "- **Number of Rows (Observations)**: 233,638\n",
    "- **Number of Columns (Features)**: 11"
   ],
   "id": "42fb79002231c3ce"
  },
  {
   "metadata": {},
   "cell_type": "code",
   "outputs": [],
   "execution_count": null,
   "source": "print(df.describe().T)",
   "id": "db7da74a6048af7d"
  },
  {
   "metadata": {},
   "cell_type": "code",
   "outputs": [],
   "execution_count": null,
   "source": "df.describe(include=['O'])\n",
   "id": "fadf048228937e7d"
  },
  {
   "metadata": {},
   "cell_type": "code",
   "outputs": [],
   "execution_count": null,
   "source": [
    "duplicated=df.duplicated().sum()\n",
    "print((duplicated/len(df))*100 , '%')"
   ],
   "id": "21946cc256da7745"
  },
  {
   "metadata": {},
   "cell_type": "markdown",
   "source": [
    "- **Number of Duplicated Rows**: `0`\n",
    "- **Percentage of Duplicated Rows**: `0.0%`"
   ],
   "id": "b85f61c7085c3a78"
  },
  {
   "metadata": {},
   "cell_type": "code",
   "outputs": [],
   "execution_count": null,
   "source": [
    "# Check missing values in numerical columns\n",
    "numerical_missing = df.select_dtypes(include=['number']).isnull().sum()\n",
    "print(numerical_missing)"
   ],
   "id": "f17ff795304e1dff"
  },
  {
   "metadata": {},
   "cell_type": "code",
   "outputs": [],
   "execution_count": null,
   "source": [
    "# Check missing values in categorical columns\n",
    "categorical_missing = df.select_dtypes(include=['object', 'category']).isnull().sum()\n",
    "print(categorical_missing)"
   ],
   "id": "ffaed4e662572da8"
  },
  {
   "metadata": {},
   "cell_type": "code",
   "outputs": [],
   "execution_count": null,
   "source": "sns.heatmap(df.isnull())\n",
   "id": "b2a2bffda60c907d"
  },
  {
   "metadata": {},
   "cell_type": "code",
   "outputs": [],
   "execution_count": null,
   "source": [
    "integer_columns = ['VITI', 'MUAJI']\n",
    "for column in integer_columns:\n",
    "    plt.figure(figsize=(8, 6))\n",
    "    sns.countplot(x=column, data=df)\n",
    "    plt.title(f'Frequency of {column}')\n",
    "    plt.xlabel(column)\n",
    "    plt.ylabel('Count')\n",
    "    plt.xticks(rotation=90)\n",
    "    plt.show()"
   ],
   "id": "3ec34b57103c2b22"
  },
  {
   "metadata": {},
   "cell_type": "code",
   "outputs": [],
   "execution_count": null,
   "source": [
    "float_columns = ['Sasia', 'Vlera Mallrave', 'Netweight', 'Taksa Doganës', 'Taksa Akcizës', 'Taksa TVSH-së']\n",
    "for column in float_columns:\n",
    "    plt.figure(figsize=(8, 6))\n",
    "    sns.histplot(df[column], bins=30, kde=True)\n",
    "    plt.title(f'Distribution of {column}')\n",
    "    plt.xlabel(column)\n",
    "    plt.ylabel('Frequency')\n",
    "    plt.show()\n",
    "\n",
    "\n",
    "    plt.figure(figsize=(8, 6))\n",
    "    sns.boxplot(x=df[column])\n",
    "    plt.title(f'Boxplot of {column}')\n",
    "    plt.xlabel(column)\n",
    "    plt.show()"
   ],
   "id": "1e08512b7903d306"
  },
  {
   "metadata": {},
   "cell_type": "code",
   "outputs": [],
   "execution_count": null,
   "source": [
    "albanian_to_ascii = {\n",
    "   'ë': 'e', 'Ë': 'E',\n",
    "    'ç': 'c', 'Ç': 'C',\n",
    "    'ë': 'e', 'Ë': 'E',\n",
    "}\n",
    "\n",
    "def replace_albanian_chars(text):\n",
    "    for alb_char, ascii_char in albanian_to_ascii.items():\n",
    "        text = text.replace(alb_char, ascii_char)\n",
    "    return text\n",
    "\n",
    "\n",
    "df['Kodi Tarifor'] = df['Kodi Tarifor'].apply(replace_albanian_chars)\n",
    "df.head()"
   ],
   "id": "8f95a45865342624"
  },
  {
   "metadata": {},
   "cell_type": "code",
   "outputs": [],
   "execution_count": null,
   "source": [
    "import matplotlib.pyplot as plt\n",
    "\n",
    "# supports Unicode characters\n",
    "plt.rcParams['font.family'] = 'DejaVu Sans'"
   ],
   "id": "ad9adef968aece2e"
  },
  {
   "metadata": {},
   "cell_type": "code",
   "outputs": [],
   "execution_count": null,
   "source": [
    "object_columns = ['Regjimi', 'Origjina']\n",
    "for column in object_columns:\n",
    "    plt.figure(figsize=(8, 6))\n",
    "    sns.countplot(x=column, data=df)\n",
    "    plt.title(f'Frequency of {column}')\n",
    "    plt.xlabel(column)\n",
    "    plt.ylabel('Count')\n",
    "    plt.xticks(rotation=90)\n",
    "    plt.show()\n",
    "\n",
    "    category_counts = df[column].value_counts()\n",
    "    category_percentages = df[column].value_counts(normalize=True) * 100\n",
    "    print(f\"Category Counts for {column}:\")\n",
    "    print(category_counts)\n",
    "    print(f\"\\nCategory Percentages for {column}:\")\n",
    "    print(category_percentages)"
   ],
   "id": "a44e46e089aed799"
  },
  {
   "metadata": {},
   "cell_type": "code",
   "outputs": [],
   "execution_count": null,
   "source": [
    "numeric_cols = ['Sasia', 'Vlera Mallrave', 'Netweight', 'Taksa Doganës', 'Taksa Akcizës', 'Taksa TVSH-së']\n",
    "df[numeric_cols] = df[numeric_cols].replace({',': ''}, regex=True).astype(float)\n",
    "\n",
    "plt.figure(figsize=(15, 10))\n",
    "for i, col in enumerate(numeric_cols, 1):\n",
    "    plt.subplot(2, 3, i)\n",
    "    sns.histplot(df[col], kde=True, bins=30)\n",
    "    plt.title(f'Distribution of {col}')\n",
    "plt.tight_layout()\n",
    "plt.show()"
   ],
   "id": "669ae8ee5919eedd"
  },
  {
   "metadata": {},
   "cell_type": "code",
   "outputs": [],
   "execution_count": null,
   "source": [
    "plt.figure(figsize=(8, 6))\n",
    "sns.scatterplot(x='Sasia', y='Vlera Mallrave', data=df)\n",
    "plt.title('Scatter Plot: Sasia vs. Vlera Mallrave')\n",
    "plt.xlabel('Sasia')\n",
    "plt.ylabel('Vlera Mallrave')\n",
    "plt.show()"
   ],
   "id": "a94afee73999f35a"
  },
  {
   "metadata": {},
   "cell_type": "code",
   "outputs": [],
   "execution_count": null,
   "source": [
    "plt.figure(figsize=(12, 8))\n",
    "sns.violinplot(x='Origjina', y='Vlera Mallrave', data=df)\n",
    "plt.title('Violin Plot: Origjina vs. Vlera Mallrave')\n",
    "plt.xlabel('Origjina')\n",
    "plt.ylabel('Vlera Mallrave')\n",
    "plt.xticks(rotation=90)\n",
    "plt.show()"
   ],
   "id": "bc95c3d4a163a993"
  },
  {
   "metadata": {},
   "cell_type": "code",
   "outputs": [],
   "execution_count": null,
   "source": [
    "plt.figure(figsize=(10, 6))\n",
    "df.groupby('Origjina')['Vlera Mallrave'].sum().sort_values(ascending=False).plot(kind='bar')\n",
    "plt.title('Total Trade Value by Country')\n",
    "plt.xlabel('Country')\n",
    "plt.ylabel('Total Value of Goods')\n",
    "plt.show()"
   ],
   "id": "42264be239f5574f"
  },
  {
   "metadata": {},
   "cell_type": "code",
   "outputs": [],
   "execution_count": null,
   "source": [
    "plt.figure(figsize=(12, 6))\n",
    "df.groupby('Kodi Tarifor')['Vlera Mallrave'].sum().sort_values(ascending=False).head(10).plot(kind='bar')\n",
    "plt.title('Top 10 Tariff Codes by Trade Value')\n",
    "plt.xlabel('Tariff Code')\n",
    "plt.ylabel('Total Value of Goods')\n",
    "plt.show()"
   ],
   "id": "f93172bbf7062328"
  },
  {
   "metadata": {},
   "cell_type": "code",
   "outputs": [],
   "execution_count": null,
   "source": [
    "tax_columns = ['Taksa Doganës', 'Taksa Akcizës', 'Taksa TVSH-së']\n",
    "total_taxes = df[tax_columns].sum()\n",
    "plt.figure(figsize=(8, 6))\n",
    "total_taxes.plot(kind='bar', stacked=True)\n",
    "plt.title('Total Tax Contributions')\n",
    "plt.xlabel('Tax Type')\n",
    "plt.ylabel('Total Tax Amount')\n",
    "plt.show()"
   ],
   "id": "dddedc811b9e8c43"
  },
  {
   "metadata": {},
   "cell_type": "code",
   "outputs": [],
   "execution_count": null,
   "source": [
    "plt.figure(figsize=(10, 8))\n",
    "sns.heatmap(df[numeric_cols].corr(), annot=True, cmap='coolwarm')\n",
    "plt.title('Correlation Heatmap')\n",
    "plt.show()"
   ],
   "id": "d0ea30f81ee64cd"
  },
  {
   "metadata": {},
   "cell_type": "code",
   "outputs": [],
   "execution_count": null,
   "source": [
    "correlation_matrix = df[['Sasia', 'Vlera Mallrave', 'Netweight', 'Taksa Doganës', 'Taksa TVSH-së']].corr()\n",
    "print(correlation_matrix)"
   ],
   "id": "37bdfbe539d14bf"
  },
  {
   "metadata": {},
   "cell_type": "markdown",
   "source": [
    "\n",
    "## Correlation Analysis Summary\n",
    "\n",
    "1. Sasia and Netweight (0.801509):\n",
    "   - Strong Positive Correlation: As the quantity (Sasia) increases, the net weight (Netweight) of goods also tends to increase. Larger quantities of goods typically have higher net weights.\n",
    "\n",
    "2. Sasia and Vlera Mallrave (0.659401):\n",
    "   - Moderate Positive Correlation: Higher quantities are associated with higher values of goods, which is expected.\n",
    "\n",
    "3. Sasia and Taksa TVSH-së (0.719401):\n",
    "   - Strong Positive Correlation: As the quantity increases, the VAT (Taksa TVSH-së) also increases. This is logical since VAT is usually calculated as a percentage of the value of goods, which correlates with quantity.\n",
    "\n",
    "4. Sasia and Taksa Doganës (0.001626):\n",
    "   - Very Weak Correlation: Almost no relationship between quantity and customs duty (Taksa Doganës), suggesting that customs duty is likely dependent on other factors (e.g., type of goods, origin).\n",
    "\n",
    "5. Vlera Mallrave and Taksa TVSH-së (0.882032):\n",
    "   - Very Strong Positive Correlation: A high correlation between the value of goods (Vlera Mallrave) and VAT (Taksa TVSH-së). This is expected as VAT is generally calculated as a percentage of the value of goods.\n",
    "\n",
    "6. Vlera Mallrave and Netweight (0.631587):\n",
    "   - Moderate Positive Correlation: Higher values of goods are associated with higher net weights, suggesting that more valuable goods might also be heavier or larger in quantity.\n"
   ],
   "id": "cf1ab3fc29520899"
  },
  {
   "metadata": {},
   "cell_type": "code",
   "outputs": [],
   "execution_count": null,
   "source": [
    "df_notnull = df[df['Sasia'].notnull()]\n",
    "df_null = df[df['Sasia'].isnull()]\n",
    "\n",
    "X = df_notnull[['Netweight', 'Vlera Mallrave', 'Taksa TVSH-së']]\n",
    "y = df_notnull['Sasia']\n",
    "\n",
    "scaler = StandardScaler()\n",
    "X_scaled = scaler.fit_transform(X)\n",
    "\n",
    "model = RandomForestRegressor(random_state=42)\n",
    "model.fit(X_scaled, y)\n",
    "\n",
    "X_null = df_null[['Netweight', 'Vlera Mallrave', 'Taksa TVSH-së']]\n",
    "X_null_scaled = scaler.transform(X_null)\n",
    "df_null.loc[:, 'Sasia'] = model.predict(X_null_scaled)\n",
    "\n",
    "df = pd.concat([df_notnull, df_null])\n",
    "print(\"Negative values in 'Sasia':\", df[df['Sasia'] < 0].shape[0])"
   ],
   "id": "3779b6dd1920735"
  },
  {
   "metadata": {},
   "cell_type": "code",
   "outputs": [],
   "execution_count": null,
   "source": [
    "missing_percent = df.isnull().mean().sort_values(ascending=False) * 100\n",
    "print(\"Missing Value Percentage by Columns:\\n\", round(missing_percent,2))"
   ],
   "id": "6ffb2386c79a4d91"
  },
  {
   "metadata": {},
   "cell_type": "code",
   "outputs": [],
   "execution_count": null,
   "source": "print(df[['Sasia', 'Netweight', 'Vlera Mallrave', 'Taksa TVSH-së']].head(30))\n",
   "id": "5c25dc9a2c2a59c5"
  },
  {
   "metadata": {},
   "cell_type": "code",
   "outputs": [],
   "execution_count": null,
   "source": [
    "constant_columns = df.columns[df.nunique() == 1]\n",
    "print(\"Constant columns:\", constant_columns)"
   ],
   "id": "baf889e41bc3788a"
  },
  {
   "metadata": {},
   "cell_type": "code",
   "outputs": [],
   "execution_count": null,
   "source": "df.drop(columns=constant_columns, inplace=True)",
   "id": "67d8e05a27002c19"
  },
  {
   "metadata": {},
   "cell_type": "code",
   "outputs": [],
   "execution_count": null,
   "source": [
    "df['Origjina'] = df['Origjina'].astype('category')\n",
    "df['Kodi Tarifor'] = df['Kodi Tarifor'].astype('category')"
   ],
   "id": "eab064d31ed66bec"
  },
  {
   "metadata": {},
   "cell_type": "code",
   "outputs": [],
   "execution_count": null,
   "source": [
    "def detect_outliers_iqr(column):\n",
    "    Q1 = column.quantile(0.25)\n",
    "    Q3 = column.quantile(0.75)\n",
    "    IQR = Q3 - Q1\n",
    "    lower_bound = Q1 - 1.5 * IQR\n",
    "    upper_bound = Q3 + 1.5 * IQR\n",
    "    outliers = column[(column < lower_bound) | (column > upper_bound)]\n",
    "    return outliers\n",
    "\n",
    "\n",
    "for col in ['Sasia', 'Vlera Mallrave', 'Netweight', 'Taksa Doganës', 'Taksa Akcizës', 'Taksa TVSH-së']:\n",
    "    outliers = detect_outliers_iqr(df[col])\n",
    "    print(f\"Përjashtuesit në {col}:\\n\", outliers)"
   ],
   "id": "e4802d3735505100"
  },
  {
   "metadata": {},
   "cell_type": "code",
   "outputs": [],
   "execution_count": null,
   "source": [
    "for col in ['Sasia', 'Vlera Mallrave', 'Netweight', 'Taksa Doganës', 'Taksa Akcizës', 'Taksa TVSH-së']:\n",
    "    Q1 = df[col].quantile(0.25)\n",
    "    Q3 = df[col].quantile(0.75)\n",
    "    IQR = Q3 - Q1\n",
    "    lower_bound = Q1 - 1.5 * IQR\n",
    "    upper_bound = Q3 + 1.5 * IQR\n",
    "    df[col] = df[col].apply(lambda x: lower_bound if x < lower_bound else (upper_bound if x > upper_bound else x))"
   ],
   "id": "eed9e80b32ef365"
  },
  {
   "metadata": {},
   "cell_type": "code",
   "outputs": [],
   "execution_count": null,
   "source": [
    "for col in ['Sasia', 'Vlera Mallrave', 'Netweight', 'Taksa Doganës', 'Taksa Akcizës', 'Taksa TVSH-së']:\n",
    "    Q1 = df[col].quantile(0.25)\n",
    "    Q3 = df[col].quantile(0.75)\n",
    "    IQR = Q3 - Q1\n",
    "    lower_bound = Q1 - 1.5 * IQR\n",
    "    upper_bound = Q3 + 1.5 * IQR\n",
    "    outliers = df[(df[col] < lower_bound) | (df[col] > upper_bound)]\n",
    "    print(f\"Përjashtuesit pas trajtimit në {col}:\\n\", outliers)"
   ],
   "id": "66d0df97b72517fb"
  },
  {
   "metadata": {},
   "cell_type": "code",
   "outputs": [],
   "execution_count": null,
   "source": [
    "numerical_columns = df.select_dtypes(include=['float64', 'int64']).columns\n",
    "skewness = df[numerical_columns].skew()\n",
    "print(\"Koeficienti i anueshmërisë:\\n\", skewness)"
   ],
   "id": "e43139e8e342aa77"
  },
  {
   "metadata": {},
   "cell_type": "code",
   "outputs": [],
   "execution_count": null,
   "source": [
    "for col in ['Sasia', 'Vlera Mallrave', 'Netweight', 'Taksa Doganës', 'Taksa Akcizës', 'Taksa TVSH-së']:\n",
    "    df[col + '_log'] = np.log1p(df[col])\n",
    "\n",
    "print(\"\\nKoeficienti i anueshmërisë pas transformimit logaritmik:\")\n",
    "print(df[['Sasia_log', 'Vlera Mallrave_log', 'Netweight_log', 'Taksa Doganës_log', 'Taksa Akcizës_log', 'Taksa TVSH-së_log']].skew())"
   ],
   "id": "e133738077ce1c0f"
  },
  {
   "metadata": {},
   "cell_type": "code",
   "outputs": [],
   "execution_count": null,
   "source": "df['Origjina'] = df['Origjina'].str.split(' - ').str[1]\n",
   "id": "831d9ad0b8b2fa9d"
  },
  {
   "metadata": {},
   "cell_type": "code",
   "outputs": [],
   "execution_count": null,
   "source": "df.head()",
   "id": "b3a910d91114771a"
  },
  {
   "metadata": {},
   "cell_type": "code",
   "outputs": [],
   "execution_count": null,
   "source": "df['Kodi Tarifor'] = df['Kodi Tarifor'].str.split(' - ').str[0]",
   "id": "4088c8f645bac0ca"
  },
  {
   "metadata": {},
   "cell_type": "code",
   "outputs": [],
   "execution_count": null,
   "source": "df.head()",
   "id": "e71d81a2a6261bfd"
  },
  {
   "metadata": {},
   "cell_type": "code",
   "outputs": [],
   "execution_count": null,
   "source": [
    "missing_values = df.isnull().sum()\n",
    "total_dataset = np.prod(df.shape)\n",
    "total_missing = missing_values.sum()\n",
    "percent = (total_missing / total_dataset) * 100\n",
    "percent"
   ],
   "id": "f8d976b36ace522b"
  },
  {
   "metadata": {},
   "cell_type": "code",
   "outputs": [],
   "execution_count": null,
   "source": [
    "numeric_columns1 = df.select_dtypes(include=[np.number]).columns\n",
    "\n",
    "for column in numeric_columns1:\n",
    "    plt.figure(figsize=(14, 7))\n",
    "\n",
    "    # Subplot 1: Kernel Density Estimation Plot\n",
    "    plt.subplot(1, 2, 1)\n",
    "    plt.title(f\"{column} - Almost Normal Distribution\", fontsize=15)\n",
    "    sns.kdeplot(data=df[column], fill=True, color=\"blue\", warn_singular=False)\n",
    "\n",
    "    # Subplot 2: Box Plot\n",
    "    plt.subplot(1, 2, 2)\n",
    "    plt.title(f\"{column} - Skewed Distribution\", fontsize=15)\n",
    "    sns.boxplot(data=df[column], orient=\"h\")\n",
    "\n",
    "    plt.tight_layout()\n",
    "    plt.show()"
   ],
   "id": "f74faf8c729046f1"
  },
  {
   "metadata": {},
   "cell_type": "code",
   "outputs": [],
   "execution_count": null,
   "source": [
    "# Histogram for data distribution before cleaning\n",
    "df['Netweight'].hist(bins=20)\n",
    "plt.title('Histogram of Netweight')\n",
    "plt.xlabel('Netweight')\n",
    "plt.ylabel('Frequency')\n",
    "plt.show()\n",
    "\n",
    "# Histogram for data distribution after cleaning\n",
    "df['Netweight_log'].hist(bins=20)\n",
    "plt.title('Histogram of Netweight')\n",
    "plt.xlabel('Netweight')\n",
    "plt.ylabel('Frequency')\n",
    "plt.show()"
   ],
   "id": "4d162896c84ee53d"
  },
  {
   "metadata": {},
   "cell_type": "code",
   "outputs": [],
   "execution_count": null,
   "source": [
    "from sklearn.model_selection import train_test_split\n",
    "train_data, test_data = train_test_split(df, test_size=0.2, random_state=42)\n",
    "\n",
    "train_data.to_csv('train_data.csv', index=False)\n",
    "test_data.to_csv('test_data.csv', index=False)"
   ],
   "id": "1890f565e3044262"
  }
 ],
 "metadata": {
  "kernelspec": {
   "display_name": "Python 3",
   "language": "python",
   "name": "python3"
  },
  "language_info": {
   "codemirror_mode": {
    "name": "ipython",
    "version": 2
   },
   "file_extension": ".py",
   "mimetype": "text/x-python",
   "name": "python",
   "nbconvert_exporter": "python",
   "pygments_lexer": "ipython2",
   "version": "2.7.6"
  }
 },
 "nbformat": 4,
 "nbformat_minor": 5
}
