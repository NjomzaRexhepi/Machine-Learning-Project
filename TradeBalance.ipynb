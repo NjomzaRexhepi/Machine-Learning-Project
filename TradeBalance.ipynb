{
 "cells": [
  {
   "cell_type": "code",
   "execution_count": 1,
   "id": "initial_id",
   "metadata": {
    "collapsed": true,
    "ExecuteTime": {
     "end_time": "2025-03-14T21:43:18.309066800Z",
     "start_time": "2025-03-14T21:43:16.472118100Z"
    }
   },
   "outputs": [],
   "source": [
    "import pandas as pd \n",
    "import numpy as np"
   ]
  },
  {
   "cell_type": "code",
   "execution_count": 3,
   "outputs": [],
   "source": [
    "df = pd.read_excel('Open_DATA_Import Janar-Dhjetor-2024.xlsx', sheet_name='IMPORT_1')\n"
   ],
   "metadata": {
    "collapsed": false,
    "ExecuteTime": {
     "end_time": "2025-03-14T22:04:51.186274700Z",
     "start_time": "2025-03-14T22:03:08.917297300Z"
    }
   },
   "id": "418915e8a488817e"
  },
  {
   "cell_type": "code",
   "execution_count": 13,
   "outputs": [
    {
     "name": "stdout",
     "output_type": "stream",
     "text": [
      "        VITI  MUAJI Regjimi        Origjina  \\\n",
      "0       2024      1     IM4       CN - KINA   \n",
      "1       2024      1     IM4    PL - POLONIA   \n",
      "2       2024      1     IM4       CN - KINA   \n",
      "3       2024      1     IM4  BG - BULLGARIA   \n",
      "4       2024      1     IM4  DE - GJERMANIA   \n",
      "...      ...    ...     ...             ...   \n",
      "233633  2024     12     IM4  DE - GJERMANIA   \n",
      "233634  2024     12     IM4      IN - INDIA   \n",
      "233635  2024     12     IM4     IT - ITALIA   \n",
      "233636  2024     12     IM4       CN - KINA   \n",
      "233637  2024     12     IM4    PL - POLONIA   \n",
      "\n",
      "                                             Kodi Tarifor  Sasia  \\\n",
      "0       8807100090 - Helikat dhe rotorët dhe pjesët e ...    NaN   \n",
      "1       8529101190 - Antenat teleskopike dhe të tipit ...    NaN   \n",
      "2       8806229090 - Me peshën maksimale të ngritjes m...    NaN   \n",
      "3       8413703090 - Pompat forcuese glandless për sis...   20.0   \n",
      "4       9405618090 - Shenjat e ndriçimit, tabelat e nd...    NaN   \n",
      "...                                                   ...    ...   \n",
      "233633                              9002900090 - Të tjera    NaN   \n",
      "233634         9004109100 - Syze dielli me lente plastike    1.0   \n",
      "233635  9004109900 - Syze dielli me lente jo plastike,...  290.0   \n",
      "233636  8529909100 - Dritat emituese me Dioda (LED) mo...    NaN   \n",
      "233637                              8529909290 - Të tjera    NaN   \n",
      "\n",
      "        Vlera Mallrave  Netweight  Taksa Doganës  Taksa Akcizës  Taksa TVSH-së  \n",
      "0               786.21      1.000          78.62            0.0         155.67  \n",
      "1                20.18      0.600           2.02            0.0           4.00  \n",
      "2             23763.00     34.240        2376.30            0.0        4705.08  \n",
      "3              4896.05    295.000           0.00            0.0           0.00  \n",
      "4              3208.12    126.000           0.00            0.0         577.46  \n",
      "...                ...        ...            ...            ...            ...  \n",
      "233633           20.00      1.000           2.00            0.0           3.96  \n",
      "233634           67.00      0.300           6.70            0.0          13.27  \n",
      "233635        16829.22     51.720         182.37            0.0        3062.09  \n",
      "233636          655.55      8.395          65.56            0.0         129.80  \n",
      "233637          577.26     12.000          57.73            0.0         114.30  \n",
      "\n",
      "[233638 rows x 11 columns]\n"
     ]
    }
   ],
   "source": [
    "print(df)  "
   ],
   "metadata": {
    "collapsed": false,
    "ExecuteTime": {
     "end_time": "2025-03-14T22:10:59.564487400Z",
     "start_time": "2025-03-14T22:10:59.508519500Z"
    }
   },
   "id": "27e607702915eb8b"
  },
  {
   "cell_type": "code",
   "execution_count": 21,
   "outputs": [
    {
     "name": "stdout",
     "output_type": "stream",
     "text": [
      "+---+------+-------+---------+----------------+--------------------------------------------------------------------------------------------------------------------------------+-------+----------------+-----------+---------------+---------------+---------------+\n",
      "|   | VITI | MUAJI | Regjimi |    Origjina    |                                                          Kodi Tarifor                                                          | Sasia | Vlera Mallrave | Netweight | Taksa Doganës | Taksa Akcizës | Taksa TVSH-së |\n",
      "+---+------+-------+---------+----------------+--------------------------------------------------------------------------------------------------------------------------------+-------+----------------+-----------+---------------+---------------+---------------+\n",
      "| 0 | 2024 |   1   |   IM4   |   CN - KINA    |                                       8807100090 - Helikat dhe rotorët dhe pjesët e tyre                                       |  nan  |     786.21     |    1.0    |     78.62     |      0.0      |    155.67     |\n",
      "| 1 | 2024 |   1   |   IM4   |  PL - POLONIA  | 8529101190 - Antenat teleskopike dhe të tipit kamzhik për aparatet portative apo për aparatet për t?u përshtatur në automjetet |  nan  |     20.18      |    0.6    |     2.02      |      0.0      |      4.0      |\n",
      "| 2 | 2024 |   1   |   IM4   |   CN - KINA    |                    8806229090 - Me peshën maksimale të ngritjes më shumë se 250 g, por jo më shumë se 7 kg:                    |  nan  |    23763.0     |   34.24   |    2376.3     |      0.0      |    4705.08    |\n",
      "| 3 | 2024 |   1   |   IM4   | BG - BULLGARIA |                  8413703090 - Pompat forcuese glandless për sistemet ngrohëse dhe pajisjet me ujë të ngrohtë                   | 20.0  |    4896.05     |   295.0   |      0.0      |      0.0      |      0.0      |\n",
      "| 4 | 2024 |   1   |   IM4   | DE - GJERMANIA |                        9405618090 - Shenjat e ndriçimit, tabelat e ndriçuara të emrave dhe të ngjashme:                        |  nan  |    3208.12     |   126.0   |      0.0      |      0.0      |    577.46     |\n",
      "+---+------+-------+---------+----------------+--------------------------------------------------------------------------------------------------------------------------------+-------+----------------+-----------+---------------+---------------+---------------+\n"
     ]
    }
   ],
   "source": [
    "from tabulate import tabulate\n",
    "print(tabulate(df.head(), headers='keys', tablefmt='pretty'))"
   ],
   "metadata": {
    "collapsed": false,
    "ExecuteTime": {
     "end_time": "2025-03-14T22:16:11.097439500Z",
     "start_time": "2025-03-14T22:16:11.048467900Z"
    }
   },
   "id": "aa3d37a796cc333f"
  },
  {
   "cell_type": "code",
   "execution_count": 5,
   "outputs": [
    {
     "data": {
      "text/plain": "           VITI          MUAJI         Sasia  Vlera Mallrave     Netweight  \\\ncount  233638.0  233638.000000  7.294300e+04    2.336380e+05  2.336380e+05   \nmean     2024.0       6.634961  2.797952e+04    2.708681e+04  2.332468e+04   \nstd         0.0       3.438751  6.357634e+05    2.529220e+05  4.405324e+05   \nmin      2024.0       1.000000  1.000000e-02    0.000000e+00  5.000000e-03   \n25%      2024.0       4.000000  4.065000e+00    2.425000e+02  1.000000e+01   \n50%      2024.0       7.000000  4.100000e+01    1.564370e+03  1.320000e+02   \n75%      2024.0      10.000000  5.939200e+02    9.675280e+03  1.782898e+03   \nmax      2024.0      12.000000  6.315474e+07    3.772116e+07  5.145773e+07   \n\n       Taksa Doganës  Taksa Akcizës  Taksa TVSH-së  \ncount   2.336380e+05   2.336380e+05   2.336380e+05  \nmean    7.196629e+02   2.621695e+03   4.395679e+03  \nstd     9.445219e+03   1.291118e+05   6.060343e+04  \nmin     0.000000e+00   0.000000e+00   0.000000e+00  \n25%     0.000000e+00   0.000000e+00   2.798000e+01  \n50%     5.890000e+00   0.000000e+00   2.019600e+02  \n75%     9.960750e+01   0.000000e+00   1.306477e+03  \nmax     1.015553e+06   2.256510e+07   1.084940e+07  ",
      "text/html": "<div>\n<style scoped>\n    .dataframe tbody tr th:only-of-type {\n        vertical-align: middle;\n    }\n\n    .dataframe tbody tr th {\n        vertical-align: top;\n    }\n\n    .dataframe thead th {\n        text-align: right;\n    }\n</style>\n<table border=\"1\" class=\"dataframe\">\n  <thead>\n    <tr style=\"text-align: right;\">\n      <th></th>\n      <th>VITI</th>\n      <th>MUAJI</th>\n      <th>Sasia</th>\n      <th>Vlera Mallrave</th>\n      <th>Netweight</th>\n      <th>Taksa Doganës</th>\n      <th>Taksa Akcizës</th>\n      <th>Taksa TVSH-së</th>\n    </tr>\n  </thead>\n  <tbody>\n    <tr>\n      <th>count</th>\n      <td>233638.0</td>\n      <td>233638.000000</td>\n      <td>7.294300e+04</td>\n      <td>2.336380e+05</td>\n      <td>2.336380e+05</td>\n      <td>2.336380e+05</td>\n      <td>2.336380e+05</td>\n      <td>2.336380e+05</td>\n    </tr>\n    <tr>\n      <th>mean</th>\n      <td>2024.0</td>\n      <td>6.634961</td>\n      <td>2.797952e+04</td>\n      <td>2.708681e+04</td>\n      <td>2.332468e+04</td>\n      <td>7.196629e+02</td>\n      <td>2.621695e+03</td>\n      <td>4.395679e+03</td>\n    </tr>\n    <tr>\n      <th>std</th>\n      <td>0.0</td>\n      <td>3.438751</td>\n      <td>6.357634e+05</td>\n      <td>2.529220e+05</td>\n      <td>4.405324e+05</td>\n      <td>9.445219e+03</td>\n      <td>1.291118e+05</td>\n      <td>6.060343e+04</td>\n    </tr>\n    <tr>\n      <th>min</th>\n      <td>2024.0</td>\n      <td>1.000000</td>\n      <td>1.000000e-02</td>\n      <td>0.000000e+00</td>\n      <td>5.000000e-03</td>\n      <td>0.000000e+00</td>\n      <td>0.000000e+00</td>\n      <td>0.000000e+00</td>\n    </tr>\n    <tr>\n      <th>25%</th>\n      <td>2024.0</td>\n      <td>4.000000</td>\n      <td>4.065000e+00</td>\n      <td>2.425000e+02</td>\n      <td>1.000000e+01</td>\n      <td>0.000000e+00</td>\n      <td>0.000000e+00</td>\n      <td>2.798000e+01</td>\n    </tr>\n    <tr>\n      <th>50%</th>\n      <td>2024.0</td>\n      <td>7.000000</td>\n      <td>4.100000e+01</td>\n      <td>1.564370e+03</td>\n      <td>1.320000e+02</td>\n      <td>5.890000e+00</td>\n      <td>0.000000e+00</td>\n      <td>2.019600e+02</td>\n    </tr>\n    <tr>\n      <th>75%</th>\n      <td>2024.0</td>\n      <td>10.000000</td>\n      <td>5.939200e+02</td>\n      <td>9.675280e+03</td>\n      <td>1.782898e+03</td>\n      <td>9.960750e+01</td>\n      <td>0.000000e+00</td>\n      <td>1.306477e+03</td>\n    </tr>\n    <tr>\n      <th>max</th>\n      <td>2024.0</td>\n      <td>12.000000</td>\n      <td>6.315474e+07</td>\n      <td>3.772116e+07</td>\n      <td>5.145773e+07</td>\n      <td>1.015553e+06</td>\n      <td>2.256510e+07</td>\n      <td>1.084940e+07</td>\n    </tr>\n  </tbody>\n</table>\n</div>"
     },
     "execution_count": 5,
     "metadata": {},
     "output_type": "execute_result"
    }
   ],
   "source": [
    "df.describe()"
   ],
   "metadata": {
    "collapsed": false,
    "ExecuteTime": {
     "end_time": "2025-03-14T22:05:35.913005600Z",
     "start_time": "2025-03-14T22:05:35.584194700Z"
    }
   },
   "id": "d17b1425013ca825"
  },
  {
   "cell_type": "code",
   "execution_count": 8,
   "outputs": [
    {
     "data": {
      "text/plain": "        VITI  MUAJI Regjimi        Origjina  \\\n233633  2024     12     IM4  DE - GJERMANIA   \n233634  2024     12     IM4      IN - INDIA   \n233635  2024     12     IM4     IT - ITALIA   \n233636  2024     12     IM4       CN - KINA   \n233637  2024     12     IM4    PL - POLONIA   \n\n                                             Kodi Tarifor  Sasia  \\\n233633                              9002900090 - Të tjera    NaN   \n233634         9004109100 - Syze dielli me lente plastike    1.0   \n233635  9004109900 - Syze dielli me lente jo plastike,...  290.0   \n233636  8529909100 - Dritat emituese me Dioda (LED) mo...    NaN   \n233637                              8529909290 - Të tjera    NaN   \n\n        Vlera Mallrave  Netweight  Taksa Doganës  Taksa Akcizës  Taksa TVSH-së  \n233633           20.00      1.000           2.00            0.0           3.96  \n233634           67.00      0.300           6.70            0.0          13.27  \n233635        16829.22     51.720         182.37            0.0        3062.09  \n233636          655.55      8.395          65.56            0.0         129.80  \n233637          577.26     12.000          57.73            0.0         114.30  ",
      "text/html": "<div>\n<style scoped>\n    .dataframe tbody tr th:only-of-type {\n        vertical-align: middle;\n    }\n\n    .dataframe tbody tr th {\n        vertical-align: top;\n    }\n\n    .dataframe thead th {\n        text-align: right;\n    }\n</style>\n<table border=\"1\" class=\"dataframe\">\n  <thead>\n    <tr style=\"text-align: right;\">\n      <th></th>\n      <th>VITI</th>\n      <th>MUAJI</th>\n      <th>Regjimi</th>\n      <th>Origjina</th>\n      <th>Kodi Tarifor</th>\n      <th>Sasia</th>\n      <th>Vlera Mallrave</th>\n      <th>Netweight</th>\n      <th>Taksa Doganës</th>\n      <th>Taksa Akcizës</th>\n      <th>Taksa TVSH-së</th>\n    </tr>\n  </thead>\n  <tbody>\n    <tr>\n      <th>233633</th>\n      <td>2024</td>\n      <td>12</td>\n      <td>IM4</td>\n      <td>DE - GJERMANIA</td>\n      <td>9002900090 - Të tjera</td>\n      <td>NaN</td>\n      <td>20.00</td>\n      <td>1.000</td>\n      <td>2.00</td>\n      <td>0.0</td>\n      <td>3.96</td>\n    </tr>\n    <tr>\n      <th>233634</th>\n      <td>2024</td>\n      <td>12</td>\n      <td>IM4</td>\n      <td>IN - INDIA</td>\n      <td>9004109100 - Syze dielli me lente plastike</td>\n      <td>1.0</td>\n      <td>67.00</td>\n      <td>0.300</td>\n      <td>6.70</td>\n      <td>0.0</td>\n      <td>13.27</td>\n    </tr>\n    <tr>\n      <th>233635</th>\n      <td>2024</td>\n      <td>12</td>\n      <td>IM4</td>\n      <td>IT - ITALIA</td>\n      <td>9004109900 - Syze dielli me lente jo plastike,...</td>\n      <td>290.0</td>\n      <td>16829.22</td>\n      <td>51.720</td>\n      <td>182.37</td>\n      <td>0.0</td>\n      <td>3062.09</td>\n    </tr>\n    <tr>\n      <th>233636</th>\n      <td>2024</td>\n      <td>12</td>\n      <td>IM4</td>\n      <td>CN - KINA</td>\n      <td>8529909100 - Dritat emituese me Dioda (LED) mo...</td>\n      <td>NaN</td>\n      <td>655.55</td>\n      <td>8.395</td>\n      <td>65.56</td>\n      <td>0.0</td>\n      <td>129.80</td>\n    </tr>\n    <tr>\n      <th>233637</th>\n      <td>2024</td>\n      <td>12</td>\n      <td>IM4</td>\n      <td>PL - POLONIA</td>\n      <td>8529909290 - Të tjera</td>\n      <td>NaN</td>\n      <td>577.26</td>\n      <td>12.000</td>\n      <td>57.73</td>\n      <td>0.0</td>\n      <td>114.30</td>\n    </tr>\n  </tbody>\n</table>\n</div>"
     },
     "execution_count": 8,
     "metadata": {},
     "output_type": "execute_result"
    }
   ],
   "source": [
    "df.tail()"
   ],
   "metadata": {
    "collapsed": false,
    "ExecuteTime": {
     "end_time": "2025-03-14T22:06:09.659370100Z",
     "start_time": "2025-03-14T22:06:09.621392500Z"
    }
   },
   "id": "90964a4bcc08fdcb"
  },
  {
   "cell_type": "code",
   "execution_count": 9,
   "outputs": [
    {
     "name": "stdout",
     "output_type": "stream",
     "text": [
      "<class 'pandas.core.frame.DataFrame'>\n",
      "RangeIndex: 233638 entries, 0 to 233637\n",
      "Data columns (total 11 columns):\n",
      " #   Column          Non-Null Count   Dtype  \n",
      "---  ------          --------------   -----  \n",
      " 0   VITI            233638 non-null  int64  \n",
      " 1   MUAJI           233638 non-null  int64  \n",
      " 2   Regjimi         233638 non-null  object \n",
      " 3   Origjina        233638 non-null  object \n",
      " 4   Kodi Tarifor    233638 non-null  object \n",
      " 5   Sasia           72943 non-null   float64\n",
      " 6   Vlera Mallrave  233638 non-null  float64\n",
      " 7   Netweight       233638 non-null  float64\n",
      " 8   Taksa Doganës   233638 non-null  float64\n",
      " 9   Taksa Akcizës   233638 non-null  float64\n",
      " 10  Taksa TVSH-së   233638 non-null  float64\n",
      "dtypes: float64(6), int64(2), object(3)\n",
      "memory usage: 19.6+ MB\n",
      "None\n"
     ]
    }
   ],
   "source": [
    "# print a summary of the DataFrame's structure\n",
    "data_info = df.info()\n",
    "print(data_info)"
   ],
   "metadata": {
    "collapsed": false,
    "ExecuteTime": {
     "end_time": "2025-03-14T22:07:43.111137600Z",
     "start_time": "2025-03-14T22:07:42.883267900Z"
    }
   },
   "id": "e0bd78cc9ecbc9da"
  },
  {
   "cell_type": "code",
   "execution_count": 10,
   "outputs": [
    {
     "data": {
      "text/plain": "(233638, 11)"
     },
     "execution_count": 10,
     "metadata": {},
     "output_type": "execute_result"
    }
   ],
   "source": [
    "# print the shape of dataset\n",
    "df.shape"
   ],
   "metadata": {
    "collapsed": false,
    "ExecuteTime": {
     "end_time": "2025-03-14T22:08:00.859681600Z",
     "start_time": "2025-03-14T22:08:00.748725900Z"
    }
   },
   "id": "8ed69f41b43561e7"
  },
  {
   "cell_type": "code",
   "execution_count": null,
   "outputs": [],
   "source": [],
   "metadata": {
    "collapsed": false
   },
   "id": "14a23ac1e5ee4b13"
  }
 ],
 "metadata": {
  "kernelspec": {
   "display_name": "Python 3",
   "language": "python",
   "name": "python3"
  },
  "language_info": {
   "codemirror_mode": {
    "name": "ipython",
    "version": 2
   },
   "file_extension": ".py",
   "mimetype": "text/x-python",
   "name": "python",
   "nbconvert_exporter": "python",
   "pygments_lexer": "ipython2",
   "version": "2.7.6"
  }
 },
 "nbformat": 4,
 "nbformat_minor": 5
}
