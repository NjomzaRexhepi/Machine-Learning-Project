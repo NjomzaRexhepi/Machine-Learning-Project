{
 "cells": [
  {
   "cell_type": "code",
   "id": "initial_id",
   "metadata": {
    "collapsed": true,
    "ExecuteTime": {
     "end_time": "2025-03-15T12:07:22.300610Z",
     "start_time": "2025-03-15T12:07:22.239783Z"
    }
   },
   "source": [
    "import pandas as pd\n",
    "import numpy as np \n",
    "import re \n",
    "import matplotlib.pyplot as plt \n",
    "import seaborn as sns\n",
    "from tabulate import tabulate\n",
    "import missingno as msno\n",
    "from scipy import stats"
   ],
   "outputs": [],
   "execution_count": 34
  },
  {
   "metadata": {},
   "cell_type": "markdown",
   "source": "1. Load the dataset",
   "id": "ad3fddc8ab4b1a15"
  },
  {
   "cell_type": "code",
   "source": [
    "df = pd.read_excel('Open_DATA_Import Janar-Dhjetor-2024.xlsx', sheet_name='IMPORT_1')\n",
    "df.head()"
   ],
   "metadata": {
    "collapsed": false,
    "ExecuteTime": {
     "end_time": "2025-03-15T12:22:31.939384Z",
     "start_time": "2025-03-15T12:21:44.877712Z"
    }
   },
   "id": "418915e8a488817e",
   "outputs": [
    {
     "data": {
      "text/plain": [
       "   VITI  MUAJI Regjimi        Origjina  \\\n",
       "0  2024      1     IM4       CN - KINA   \n",
       "1  2024      1     IM4    PL - POLONIA   \n",
       "2  2024      1     IM4       CN - KINA   \n",
       "3  2024      1     IM4  BG - BULLGARIA   \n",
       "4  2024      1     IM4  DE - GJERMANIA   \n",
       "\n",
       "                                        Kodi Tarifor  Sasia  Vlera Mallrave  \\\n",
       "0  8807100090 - Helikat dhe rotorët dhe pjesët e ...    NaN          786.21   \n",
       "1  8529101190 - Antenat teleskopike dhe të tipit ...    NaN           20.18   \n",
       "2  8806229090 - Me peshën maksimale të ngritjes m...    NaN        23763.00   \n",
       "3  8413703090 - Pompat forcuese glandless për sis...   20.0         4896.05   \n",
       "4  9405618090 - Shenjat e ndriçimit, tabelat e nd...    NaN         3208.12   \n",
       "\n",
       "   Netweight  Taksa Doganës  Taksa Akcizës  Taksa TVSH-së  \n",
       "0       1.00          78.62            0.0         155.67  \n",
       "1       0.60           2.02            0.0           4.00  \n",
       "2      34.24        2376.30            0.0        4705.08  \n",
       "3     295.00           0.00            0.0           0.00  \n",
       "4     126.00           0.00            0.0         577.46  "
      ],
      "text/html": [
       "<div>\n",
       "<style scoped>\n",
       "    .dataframe tbody tr th:only-of-type {\n",
       "        vertical-align: middle;\n",
       "    }\n",
       "\n",
       "    .dataframe tbody tr th {\n",
       "        vertical-align: top;\n",
       "    }\n",
       "\n",
       "    .dataframe thead th {\n",
       "        text-align: right;\n",
       "    }\n",
       "</style>\n",
       "<table border=\"1\" class=\"dataframe\">\n",
       "  <thead>\n",
       "    <tr style=\"text-align: right;\">\n",
       "      <th></th>\n",
       "      <th>VITI</th>\n",
       "      <th>MUAJI</th>\n",
       "      <th>Regjimi</th>\n",
       "      <th>Origjina</th>\n",
       "      <th>Kodi Tarifor</th>\n",
       "      <th>Sasia</th>\n",
       "      <th>Vlera Mallrave</th>\n",
       "      <th>Netweight</th>\n",
       "      <th>Taksa Doganës</th>\n",
       "      <th>Taksa Akcizës</th>\n",
       "      <th>Taksa TVSH-së</th>\n",
       "    </tr>\n",
       "  </thead>\n",
       "  <tbody>\n",
       "    <tr>\n",
       "      <th>0</th>\n",
       "      <td>2024</td>\n",
       "      <td>1</td>\n",
       "      <td>IM4</td>\n",
       "      <td>CN - KINA</td>\n",
       "      <td>8807100090 - Helikat dhe rotorët dhe pjesët e ...</td>\n",
       "      <td>NaN</td>\n",
       "      <td>786.21</td>\n",
       "      <td>1.00</td>\n",
       "      <td>78.62</td>\n",
       "      <td>0.0</td>\n",
       "      <td>155.67</td>\n",
       "    </tr>\n",
       "    <tr>\n",
       "      <th>1</th>\n",
       "      <td>2024</td>\n",
       "      <td>1</td>\n",
       "      <td>IM4</td>\n",
       "      <td>PL - POLONIA</td>\n",
       "      <td>8529101190 - Antenat teleskopike dhe të tipit ...</td>\n",
       "      <td>NaN</td>\n",
       "      <td>20.18</td>\n",
       "      <td>0.60</td>\n",
       "      <td>2.02</td>\n",
       "      <td>0.0</td>\n",
       "      <td>4.00</td>\n",
       "    </tr>\n",
       "    <tr>\n",
       "      <th>2</th>\n",
       "      <td>2024</td>\n",
       "      <td>1</td>\n",
       "      <td>IM4</td>\n",
       "      <td>CN - KINA</td>\n",
       "      <td>8806229090 - Me peshën maksimale të ngritjes m...</td>\n",
       "      <td>NaN</td>\n",
       "      <td>23763.00</td>\n",
       "      <td>34.24</td>\n",
       "      <td>2376.30</td>\n",
       "      <td>0.0</td>\n",
       "      <td>4705.08</td>\n",
       "    </tr>\n",
       "    <tr>\n",
       "      <th>3</th>\n",
       "      <td>2024</td>\n",
       "      <td>1</td>\n",
       "      <td>IM4</td>\n",
       "      <td>BG - BULLGARIA</td>\n",
       "      <td>8413703090 - Pompat forcuese glandless për sis...</td>\n",
       "      <td>20.0</td>\n",
       "      <td>4896.05</td>\n",
       "      <td>295.00</td>\n",
       "      <td>0.00</td>\n",
       "      <td>0.0</td>\n",
       "      <td>0.00</td>\n",
       "    </tr>\n",
       "    <tr>\n",
       "      <th>4</th>\n",
       "      <td>2024</td>\n",
       "      <td>1</td>\n",
       "      <td>IM4</td>\n",
       "      <td>DE - GJERMANIA</td>\n",
       "      <td>9405618090 - Shenjat e ndriçimit, tabelat e nd...</td>\n",
       "      <td>NaN</td>\n",
       "      <td>3208.12</td>\n",
       "      <td>126.00</td>\n",
       "      <td>0.00</td>\n",
       "      <td>0.0</td>\n",
       "      <td>577.46</td>\n",
       "    </tr>\n",
       "  </tbody>\n",
       "</table>\n",
       "</div>"
      ]
     },
     "execution_count": 46,
     "metadata": {},
     "output_type": "execute_result"
    }
   ],
   "execution_count": 46
  },
  {
   "metadata": {},
   "cell_type": "markdown",
   "source": "Dataset Description",
   "id": "b70835459983e45a"
  },
  {
   "metadata": {},
   "cell_type": "markdown",
   "source": [
    "| **Column**         | **Description**                                                                 |\n",
    "|---------------------|---------------------------------------------------------------------------------|\n",
    "| **VITI**           | Year of the transaction.                                                        |\n",
    "| **MUAJI**          | Month of the transaction.                                                       |\n",
    "| **Regjimi**        | Customs regime applied to the transaction.                                      |\n",
    "| **Origjina**       | Country or region of origin of the goods.                                       |\n",
    "| **Kodi Tarifor**   | Tariff code (HS code) classifying the goods.                                    |\n",
    "| **Sasia**          | Quantity of goods traded.                                                       |\n",
    "| **Vlera Mallrave** | Monetary value of the goods.                                                    |\n",
    "| **Netweight**      | Net weight of the goods (excluding packaging).                                  |\n",
    "| **Taksa Doganës**  | Customs duty applied to the goods.                                              |\n",
    "| **Taksa Akcizës**  | Excise duty applied to specific goods (e.g., alcohol, tobacco).                 |\n",
    "| **Taksa TVSH-së**  | Value Added Tax (VAT) applied to the goods.                                     |"
   ],
   "id": "eb122158640e9b20"
  },
  {
   "metadata": {},
   "cell_type": "markdown",
   "source": "Data inspect",
   "id": "84d51469b5cc219a"
  },
  {
   "cell_type": "code",
   "source": "print(df.info)",
   "metadata": {
    "collapsed": false,
    "ExecuteTime": {
     "end_time": "2025-03-15T12:45:12.136485Z",
     "start_time": "2025-03-15T12:45:12.124595Z"
    }
   },
   "id": "e0bd78cc9ecbc9da",
   "outputs": [
    {
     "name": "stdout",
     "output_type": "stream",
     "text": [
      "<bound method DataFrame.info of         VITI  MUAJI Regjimi        Origjina  \\\n",
      "0       2024      1     IM4       CN - KINA   \n",
      "1       2024      1     IM4    PL - POLONIA   \n",
      "2       2024      1     IM4       CN - KINA   \n",
      "3       2024      1     IM4  BG - BULLGARIA   \n",
      "4       2024      1     IM4  DE - GJERMANIA   \n",
      "...      ...    ...     ...             ...   \n",
      "233633  2024     12     IM4  DE - GJERMANIA   \n",
      "233634  2024     12     IM4      IN - INDIA   \n",
      "233635  2024     12     IM4     IT - ITALIA   \n",
      "233636  2024     12     IM4       CN - KINA   \n",
      "233637  2024     12     IM4    PL - POLONIA   \n",
      "\n",
      "                                             Kodi Tarifor  Sasia  \\\n",
      "0       8807100090 - Helikat dhe rotorët dhe pjesët e ...    NaN   \n",
      "1       8529101190 - Antenat teleskopike dhe të tipit ...    NaN   \n",
      "2       8806229090 - Me peshën maksimale të ngritjes m...    NaN   \n",
      "3       8413703090 - Pompat forcuese glandless për sis...   20.0   \n",
      "4       9405618090 - Shenjat e ndriçimit, tabelat e nd...    NaN   \n",
      "...                                                   ...    ...   \n",
      "233633                              9002900090 - Të tjera    NaN   \n",
      "233634         9004109100 - Syze dielli me lente plastike    1.0   \n",
      "233635  9004109900 - Syze dielli me lente jo plastike,...  290.0   \n",
      "233636  8529909100 - Dritat emituese me Dioda (LED) mo...    NaN   \n",
      "233637                              8529909290 - Të tjera    NaN   \n",
      "\n",
      "        Vlera Mallrave  Netweight  Taksa Doganës  Taksa Akcizës  Taksa TVSH-së  \n",
      "0               786.21      1.000          78.62            0.0         155.67  \n",
      "1                20.18      0.600           2.02            0.0           4.00  \n",
      "2             23763.00     34.240        2376.30            0.0        4705.08  \n",
      "3              4896.05    295.000           0.00            0.0           0.00  \n",
      "4              3208.12    126.000           0.00            0.0         577.46  \n",
      "...                ...        ...            ...            ...            ...  \n",
      "233633           20.00      1.000           2.00            0.0           3.96  \n",
      "233634           67.00      0.300           6.70            0.0          13.27  \n",
      "233635        16829.22     51.720         182.37            0.0        3062.09  \n",
      "233636          655.55      8.395          65.56            0.0         129.80  \n",
      "233637          577.26     12.000          57.73            0.0         114.30  \n",
      "\n",
      "[233638 rows x 11 columns]>\n"
     ]
    }
   ],
   "execution_count": 47
  },
  {
   "metadata": {},
   "cell_type": "markdown",
   "source": [
    "The dataset contains **233,638 entries (rows)** and **11 columns**.\n",
    "The columns are of different data types:\n",
    "- **Integer (int64):** `VITI`, `MUAJI`\n",
    "- **Float (float64):** `Sasia`, `Vlera Mallrave`, `Netweight`, `Taksa Doganës`, `Taksa Akcizës`, `Taksa TVSH-së`\n",
    "- **Object (string/categorical):** `Regjimi`, `Origjina`, `Kodi Tarifor`\n",
    "\n"
   ],
   "id": "9b8d3c468b35b9e9"
  },
  {
   "metadata": {
    "collapsed": false,
    "ExecuteTime": {
     "end_time": "2025-03-15T12:56:09.249970Z",
     "start_time": "2025-03-15T12:56:09.193297Z"
    }
   },
   "cell_type": "code",
   "source": "df.describe()",
   "id": "d17b1425013ca825",
   "outputs": [
    {
     "data": {
      "text/plain": [
       "           VITI          MUAJI         Sasia  Vlera Mallrave     Netweight  \\\n",
       "count  233638.0  233638.000000  7.294300e+04    2.336380e+05  2.336380e+05   \n",
       "mean     2024.0       6.634961  2.797952e+04    2.708681e+04  2.332468e+04   \n",
       "std         0.0       3.438751  6.357634e+05    2.529220e+05  4.405324e+05   \n",
       "min      2024.0       1.000000  1.000000e-02    0.000000e+00  5.000000e-03   \n",
       "25%      2024.0       4.000000  4.065000e+00    2.425000e+02  1.000000e+01   \n",
       "50%      2024.0       7.000000  4.100000e+01    1.564370e+03  1.320000e+02   \n",
       "75%      2024.0      10.000000  5.939200e+02    9.675280e+03  1.782898e+03   \n",
       "max      2024.0      12.000000  6.315474e+07    3.772116e+07  5.145773e+07   \n",
       "\n",
       "       Taksa Doganës  Taksa Akcizës  Taksa TVSH-së  \n",
       "count   2.336380e+05   2.336380e+05   2.336380e+05  \n",
       "mean    7.196629e+02   2.621695e+03   4.395679e+03  \n",
       "std     9.445219e+03   1.291118e+05   6.060343e+04  \n",
       "min     0.000000e+00   0.000000e+00   0.000000e+00  \n",
       "25%     0.000000e+00   0.000000e+00   2.798000e+01  \n",
       "50%     5.890000e+00   0.000000e+00   2.019600e+02  \n",
       "75%     9.960750e+01   0.000000e+00   1.306477e+03  \n",
       "max     1.015553e+06   2.256510e+07   1.084940e+07  "
      ],
      "text/html": [
       "<div>\n",
       "<style scoped>\n",
       "    .dataframe tbody tr th:only-of-type {\n",
       "        vertical-align: middle;\n",
       "    }\n",
       "\n",
       "    .dataframe tbody tr th {\n",
       "        vertical-align: top;\n",
       "    }\n",
       "\n",
       "    .dataframe thead th {\n",
       "        text-align: right;\n",
       "    }\n",
       "</style>\n",
       "<table border=\"1\" class=\"dataframe\">\n",
       "  <thead>\n",
       "    <tr style=\"text-align: right;\">\n",
       "      <th></th>\n",
       "      <th>VITI</th>\n",
       "      <th>MUAJI</th>\n",
       "      <th>Sasia</th>\n",
       "      <th>Vlera Mallrave</th>\n",
       "      <th>Netweight</th>\n",
       "      <th>Taksa Doganës</th>\n",
       "      <th>Taksa Akcizës</th>\n",
       "      <th>Taksa TVSH-së</th>\n",
       "    </tr>\n",
       "  </thead>\n",
       "  <tbody>\n",
       "    <tr>\n",
       "      <th>count</th>\n",
       "      <td>233638.0</td>\n",
       "      <td>233638.000000</td>\n",
       "      <td>7.294300e+04</td>\n",
       "      <td>2.336380e+05</td>\n",
       "      <td>2.336380e+05</td>\n",
       "      <td>2.336380e+05</td>\n",
       "      <td>2.336380e+05</td>\n",
       "      <td>2.336380e+05</td>\n",
       "    </tr>\n",
       "    <tr>\n",
       "      <th>mean</th>\n",
       "      <td>2024.0</td>\n",
       "      <td>6.634961</td>\n",
       "      <td>2.797952e+04</td>\n",
       "      <td>2.708681e+04</td>\n",
       "      <td>2.332468e+04</td>\n",
       "      <td>7.196629e+02</td>\n",
       "      <td>2.621695e+03</td>\n",
       "      <td>4.395679e+03</td>\n",
       "    </tr>\n",
       "    <tr>\n",
       "      <th>std</th>\n",
       "      <td>0.0</td>\n",
       "      <td>3.438751</td>\n",
       "      <td>6.357634e+05</td>\n",
       "      <td>2.529220e+05</td>\n",
       "      <td>4.405324e+05</td>\n",
       "      <td>9.445219e+03</td>\n",
       "      <td>1.291118e+05</td>\n",
       "      <td>6.060343e+04</td>\n",
       "    </tr>\n",
       "    <tr>\n",
       "      <th>min</th>\n",
       "      <td>2024.0</td>\n",
       "      <td>1.000000</td>\n",
       "      <td>1.000000e-02</td>\n",
       "      <td>0.000000e+00</td>\n",
       "      <td>5.000000e-03</td>\n",
       "      <td>0.000000e+00</td>\n",
       "      <td>0.000000e+00</td>\n",
       "      <td>0.000000e+00</td>\n",
       "    </tr>\n",
       "    <tr>\n",
       "      <th>25%</th>\n",
       "      <td>2024.0</td>\n",
       "      <td>4.000000</td>\n",
       "      <td>4.065000e+00</td>\n",
       "      <td>2.425000e+02</td>\n",
       "      <td>1.000000e+01</td>\n",
       "      <td>0.000000e+00</td>\n",
       "      <td>0.000000e+00</td>\n",
       "      <td>2.798000e+01</td>\n",
       "    </tr>\n",
       "    <tr>\n",
       "      <th>50%</th>\n",
       "      <td>2024.0</td>\n",
       "      <td>7.000000</td>\n",
       "      <td>4.100000e+01</td>\n",
       "      <td>1.564370e+03</td>\n",
       "      <td>1.320000e+02</td>\n",
       "      <td>5.890000e+00</td>\n",
       "      <td>0.000000e+00</td>\n",
       "      <td>2.019600e+02</td>\n",
       "    </tr>\n",
       "    <tr>\n",
       "      <th>75%</th>\n",
       "      <td>2024.0</td>\n",
       "      <td>10.000000</td>\n",
       "      <td>5.939200e+02</td>\n",
       "      <td>9.675280e+03</td>\n",
       "      <td>1.782898e+03</td>\n",
       "      <td>9.960750e+01</td>\n",
       "      <td>0.000000e+00</td>\n",
       "      <td>1.306477e+03</td>\n",
       "    </tr>\n",
       "    <tr>\n",
       "      <th>max</th>\n",
       "      <td>2024.0</td>\n",
       "      <td>12.000000</td>\n",
       "      <td>6.315474e+07</td>\n",
       "      <td>3.772116e+07</td>\n",
       "      <td>5.145773e+07</td>\n",
       "      <td>1.015553e+06</td>\n",
       "      <td>2.256510e+07</td>\n",
       "      <td>1.084940e+07</td>\n",
       "    </tr>\n",
       "  </tbody>\n",
       "</table>\n",
       "</div>"
      ]
     },
     "execution_count": 49,
     "metadata": {},
     "output_type": "execute_result"
    }
   ],
   "execution_count": 49
  },
  {
   "metadata": {},
   "cell_type": "markdown",
   "source": [
    "#### **Count:**\n",
    "- All columns (`VITI`, `MUAJI`, `Sasia`, `Vlera Mallrave`, `Netweight`, `Taksa Doganës`, `Taksa Akcizës`, `Taksa TVSH-së`) have **233,638 non-null entries**, except for `Sasia`, which has **72,943 non-null entries**. This indicates that the `Sasia` column has a significant number of missing values.\n",
    "\n",
    "---\n",
    "\n",
    "#### **Mean:**\n",
    "- **`VITI`:** The mean value is **2024.0**, indicating that all transactions occurred in the year 2024.\n",
    "- **`MUAJI`:** The mean value is **6.63**, suggesting that the average month of transactions is around June/July.\n",
    "- **`Sasia`:** The mean quantity of goods traded is **27,979.52**, indicating a large volume of goods on average.\n",
    "- **`Vlera Mallrave`:** The mean value of goods is **27,086.81**, showing a high average monetary value per transaction.\n",
    "- **`Netweight`:** The mean net weight of goods is **23,324.68**, indicating heavy shipments on average.\n",
    "- **`Taksa Doganës`:** The mean customs duty is **719.66**, suggesting moderate tax rates on average.\n",
    "- **`Taksa Akcizës`:** The mean excise duty is **2,621.70**, indicating higher taxes on specific goods (e.g., alcohol, tobacco).\n",
    "- **`Taksa TVSH-së`:** The mean VAT is **4,395.68**, showing a significant tax burden on goods.\n",
    "\n",
    "---\n",
    "\n",
    "#### **Standard Deviation (std):**\n",
    "- **`VITI`:** The standard deviation is **0.0**, confirming that all transactions occurred in the same year (2024).\n",
    "- **`MUAJI`:** The standard deviation is **3.44**, indicating moderate variability in the month of transactions.\n",
    "- **`Sasia`:** The standard deviation is **635,763.40**, showing extremely high variability in the quantity of goods traded.\n",
    "- **`Vlera Mallrave`:** The standard deviation is **252,921.97**, indicating high variability in the value of goods.\n",
    "- **`Netweight`:** The standard deviation is **440,532.40**, showing extremely high variability in the net weight of goods.\n",
    "- **`Taksa Doganës`:** The standard deviation is **9,445.22**, indicating significant variability in customs duties.\n",
    "- **`Taksa Akcizës`:** The standard deviation is **129,111.77**, showing extremely high variability in excise duties.\n",
    "- **`Taksa TVSH-së`:** The standard deviation is **60,603.43**, indicating significant variability in VAT.\n",
    "\n",
    "---\n",
    "\n",
    "#### **Minimum (min):**\n",
    "- **`VITI`:** The minimum value is **2024**, confirming that all transactions occurred in 2024.\n",
    "- **`MUAJI`:** The minimum value is **1**, indicating transactions occurred as early as January.\n",
    "- **`Sasia`:** The minimum quantity of goods traded is **0.01**, showing very small transactions.\n",
    "- **`Vlera Mallrave`:** The minimum value of goods is **0.0**, indicating some transactions have no monetary value.\n",
    "- **`Netweight`:** The minimum net weight is **0.005**, showing very light shipments.\n",
    "- **`Taksa Doganës`:** The minimum customs duty is **0.0**, indicating some transactions are duty-free.\n",
    "- **`Taksa Akcizës`:** The minimum excise duty is **0.0**, indicating some goods are exempt from excise tax.\n",
    "- **`Taksa TVSH-së`:** The minimum VAT is **0.0**, indicating some transactions are VAT-free.\n",
    "\n",
    "---\n",
    "\n",
    "#### **Quartiles (25%, 50%, 75%):**\n",
    "- **`MUAJI`:**\n",
    "  - 25% of transactions occurred by **April**, 50% by **July**, and 75% by **October**.\n",
    "- **`Sasia`:**\n",
    "  - 25% of transactions involve **4.06** units, 50% involve **41.0** units, and 75% involve **593.92** units.\n",
    "- **`Vlera Mallrave`:**\n",
    "  - 25% of transactions have a value of **242.5**, 50% have **1,564.37**, and 75% have **9,675.28**.\n",
    "- **`Netweight`:**\n",
    "  - 25% of shipments weigh **10.0**, 50% weigh **132.0**, and 75% weigh **1,782.90**.\n",
    "- **`Taksa Doganës`:**\n",
    "  - 25% of transactions have **0.0** customs duty, 50% have **5.89**, and 75% have **99.61**.\n",
    "- **`Taksa Akcizës`:**\n",
    "  - 25% of transactions have **0.0** excise duty, 50% have **0.0**, and 75% have **0.0**, indicating that most transactions are exempt from excise tax.\n",
    "- **`Taksa TVSH-së`:**\n",
    "  - 25% of transactions have **27.98** VAT, 50% have **201.96**, and 75% have **1,306.48**.\n",
    "\n",
    "---\n",
    "\n",
    "#### **Maximum (max):**\n",
    "- **`VITI`:** The maximum value is **2024**, confirming all transactions occurred in 2024.\n",
    "- **`MUAJI`:** The maximum value is **12**, indicating transactions occurred as late as December.\n",
    "- **`Sasia`:** The maximum quantity of goods traded is **63,154,738.5**, indicating extremely large transactions.\n",
    "- **`Vlera Mallrave`:** The maximum value of goods is **37,721,159.11**, indicating extremely high-value transactions.\n",
    "- **`Netweight`:** The maximum net weight is **51,457,733.0**, indicating extremely heavy shipments.\n",
    "- **`Taksa Doganës`:** The maximum customs duty is **1,015,552.62**, indicating very high tax rates for some transactions.\n",
    "- **`Taksa Akcizës`:** The maximum excise duty is **22,565,098.44**, indicating extremely high taxes on specific goods.\n",
    "- **`Taksa TVSH-së`:** The maximum VAT is **10,849,397.86**, indicating very high VAT for some transactions."
   ],
   "id": "55842762f94bdc80"
  },
  {
   "cell_type": "code",
   "source": [
    "df.shape"
   ],
   "metadata": {
    "collapsed": false,
    "ExecuteTime": {
     "end_time": "2025-03-15T13:02:18.117286Z",
     "start_time": "2025-03-15T13:02:18.106764Z"
    }
   },
   "id": "8ed69f41b43561e7",
   "outputs": [
    {
     "data": {
      "text/plain": [
       "(233638, 11)"
      ]
     },
     "execution_count": 50,
     "metadata": {},
     "output_type": "execute_result"
    }
   ],
   "execution_count": 50
  },
  {
   "metadata": {},
   "cell_type": "markdown",
   "source": [
    "- **Number of Rows (Observations)**: 233,638\n",
    "- **Number of Columns (Features)**: 11"
   ],
   "id": "a49374050d8ce734"
  },
  {
   "cell_type": "code",
   "source": [
    "print(df.describe().T)"
   ],
   "metadata": {
    "collapsed": false,
    "ExecuteTime": {
     "end_time": "2025-03-15T13:17:33.947181Z",
     "start_time": "2025-03-15T13:17:33.893263Z"
    }
   },
   "id": "14a23ac1e5ee4b13",
   "outputs": [
    {
     "name": "stdout",
     "output_type": "stream",
     "text": [
      "                   count          mean            std       min       25%  \\\n",
      "VITI            233638.0   2024.000000       0.000000  2024.000  2024.000   \n",
      "MUAJI           233638.0      6.634961       3.438751     1.000     4.000   \n",
      "Sasia            72943.0  27979.524529  635763.398873     0.010     4.065   \n",
      "Vlera Mallrave  233638.0  27086.812414  252921.972771     0.000   242.500   \n",
      "Netweight       233638.0  23324.680984  440532.397847     0.005    10.000   \n",
      "Taksa Doganës   233638.0    719.662944    9445.218869     0.000     0.000   \n",
      "Taksa Akcizës   233638.0   2621.695037  129111.766048     0.000     0.000   \n",
      "Taksa TVSH-së   233638.0   4395.678829   60603.433861     0.000    27.980   \n",
      "\n",
      "                    50%         75%          max  \n",
      "VITI            2024.00  2024.00000      2024.00  \n",
      "MUAJI              7.00    10.00000        12.00  \n",
      "Sasia             41.00   593.92000  63154738.50  \n",
      "Vlera Mallrave  1564.37  9675.28029  37721159.11  \n",
      "Netweight        132.00  1782.89750  51457733.00  \n",
      "Taksa Doganës      5.89    99.60750   1015552.62  \n",
      "Taksa Akcizës      0.00     0.00000  22565098.44  \n",
      "Taksa TVSH-së    201.96  1306.47750  10849397.86  \n"
     ]
    }
   ],
   "execution_count": 51
  },
  {
   "cell_type": "code",
   "source": [
    "df.describe(include=['O'])\n"
   ],
   "metadata": {
    "collapsed": false,
    "ExecuteTime": {
     "end_time": "2025-03-15T13:18:04.546344Z",
     "start_time": "2025-03-15T13:18:04.396347Z"
    }
   },
   "id": "f5eff9d932d06314",
   "outputs": [
    {
     "data": {
      "text/plain": [
       "       Regjimi   Origjina                                 Kodi Tarifor\n",
       "count   233638     233638                                       233638\n",
       "unique       1        194                                         6699\n",
       "top        IM4  CN - KINA  3926909790 - Artikuj te tjere prej plastike\n",
       "freq    233638      27784                                          595"
      ],
      "text/html": [
       "<div>\n",
       "<style scoped>\n",
       "    .dataframe tbody tr th:only-of-type {\n",
       "        vertical-align: middle;\n",
       "    }\n",
       "\n",
       "    .dataframe tbody tr th {\n",
       "        vertical-align: top;\n",
       "    }\n",
       "\n",
       "    .dataframe thead th {\n",
       "        text-align: right;\n",
       "    }\n",
       "</style>\n",
       "<table border=\"1\" class=\"dataframe\">\n",
       "  <thead>\n",
       "    <tr style=\"text-align: right;\">\n",
       "      <th></th>\n",
       "      <th>Regjimi</th>\n",
       "      <th>Origjina</th>\n",
       "      <th>Kodi Tarifor</th>\n",
       "    </tr>\n",
       "  </thead>\n",
       "  <tbody>\n",
       "    <tr>\n",
       "      <th>count</th>\n",
       "      <td>233638</td>\n",
       "      <td>233638</td>\n",
       "      <td>233638</td>\n",
       "    </tr>\n",
       "    <tr>\n",
       "      <th>unique</th>\n",
       "      <td>1</td>\n",
       "      <td>194</td>\n",
       "      <td>6699</td>\n",
       "    </tr>\n",
       "    <tr>\n",
       "      <th>top</th>\n",
       "      <td>IM4</td>\n",
       "      <td>CN - KINA</td>\n",
       "      <td>3926909790 - Artikuj te tjere prej plastike</td>\n",
       "    </tr>\n",
       "    <tr>\n",
       "      <th>freq</th>\n",
       "      <td>233638</td>\n",
       "      <td>27784</td>\n",
       "      <td>595</td>\n",
       "    </tr>\n",
       "  </tbody>\n",
       "</table>\n",
       "</div>"
      ]
     },
     "execution_count": 52,
     "metadata": {},
     "output_type": "execute_result"
    }
   ],
   "execution_count": 52
  },
  {
   "cell_type": "code",
   "source": [
    "duplicated=df.duplicated().sum()\n",
    "print((duplicated/len(df))*100 , '%')"
   ],
   "metadata": {
    "collapsed": false,
    "ExecuteTime": {
     "end_time": "2025-03-15T13:18:11.066227Z",
     "start_time": "2025-03-15T13:18:10.908300Z"
    }
   },
   "id": "267adf774c8b70a7",
   "outputs": [
    {
     "name": "stdout",
     "output_type": "stream",
     "text": [
      "0.0 %\n"
     ]
    }
   ],
   "execution_count": 53
  },
  {
   "metadata": {},
   "cell_type": "markdown",
   "source": [
    "- **Number of Duplicated Rows**: `0`\n",
    "- **Percentage of Duplicated Rows**: `0.0%`"
   ],
   "id": "c60e2a7a6cbcdb08"
  },
  {
   "metadata": {
    "ExecuteTime": {
     "end_time": "2025-03-15T13:26:58.388026Z",
     "start_time": "2025-03-15T13:26:58.373587Z"
    }
   },
   "cell_type": "code",
   "source": [
    "# Check missing values in numerical columns\n",
    "numerical_missing = df.select_dtypes(include=['number']).isnull().sum()\n",
    "print(numerical_missing)"
   ],
   "id": "23ba7b7c41edb636",
   "outputs": [
    {
     "name": "stdout",
     "output_type": "stream",
     "text": [
      "VITI                   0\n",
      "MUAJI                  0\n",
      "Sasia             160695\n",
      "Vlera Mallrave         0\n",
      "Netweight              0\n",
      "Taksa Doganës          0\n",
      "Taksa Akcizës          0\n",
      "Taksa TVSH-së          0\n",
      "dtype: int64\n"
     ]
    }
   ],
   "execution_count": 55
  },
  {
   "metadata": {
    "ExecuteTime": {
     "end_time": "2025-03-15T13:27:19.200822Z",
     "start_time": "2025-03-15T13:27:19.172722Z"
    }
   },
   "cell_type": "code",
   "source": [
    "# Check missing values in categorical columns\n",
    "categorical_missing = df.select_dtypes(include=['object', 'category']).isnull().sum()\n",
    "print(categorical_missing)"
   ],
   "id": "43266063ddf3e4ae",
   "outputs": [
    {
     "name": "stdout",
     "output_type": "stream",
     "text": [
      "Regjimi         0\n",
      "Origjina        0\n",
      "Kodi Tarifor    0\n",
      "dtype: int64\n"
     ]
    }
   ],
   "execution_count": 56
  },
  {
   "cell_type": "code",
   "source": [
    "sns.heatmap(df.isnull())\n"
   ],
   "metadata": {
    "collapsed": false,
    "ExecuteTime": {
     "end_time": "2025-03-15T13:21:23.164428Z",
     "start_time": "2025-03-15T13:21:21.301938Z"
    }
   },
   "id": "5e7990a47d7b2929",
   "outputs": [
    {
     "data": {
      "text/plain": [
       "<Axes: >"
      ]
     },
     "execution_count": 54,
     "metadata": {},
     "output_type": "execute_result"
    },
    {
     "data": {
      "text/plain": [
       "<Figure size 640x480 with 2 Axes>"
      ],
      "image/png": "[encoded data removed]"
     },
     "metadata": {},
     "output_type": "display_data"
    }
   ],
   "execution_count": 54
  },
  {
   "cell_type": "code",
   "source": [
    "numeric_cols = ['Sasia', 'Vlera Mallrave', 'Netweight', 'Taksa Doganës', 'Taksa Akcizës', 'Taksa TVSH-së']\n",
    "df[numeric_cols] = df[numeric_cols].replace({',': ''}, regex=True).astype(float)\n",
    "\n",
    "plt.figure(figsize=(15, 10))\n",
    "for i, col in enumerate(numeric_cols, 1):\n",
    "    plt.subplot(2, 3, i)\n",
    "    sns.histplot(df[col], kde=True, bins=30)\n",
    "    plt.title(f'Distribution of {col}')\n",
    "plt.tight_layout()\n",
    "plt.show()"
   ],
   "metadata": {
    "collapsed": false
   },
   "id": "35dbd573192e4d72",
   "outputs": [],
   "execution_count": null
  },
  {
   "cell_type": "code",
   "source": [
    "\n",
    "plt.figure(figsize=(10, 6))\n",
    "df.groupby('Origjina')['Vlera Mallrave'].sum().sort_values(ascending=False).plot(kind='bar')\n",
    "plt.title('Total Trade Value by Country')\n",
    "plt.xlabel('Country')\n",
    "plt.ylabel('Total Value of Goods')\n",
    "plt.show()"
   ],
   "metadata": {
    "collapsed": false
   },
   "id": "b6f473e1345d1e5f",
   "outputs": [],
   "execution_count": null
  },
  {
   "cell_type": "code",
   "source": [
    "plt.figure(figsize=(12, 6))\n",
    "df.groupby('Kodi Tarifor')['Vlera Mallrave'].sum().sort_values(ascending=False).head(10).plot(kind='bar')\n",
    "plt.title('Top 10 Tariff Codes by Trade Value')\n",
    "plt.xlabel('Tariff Code')\n",
    "plt.ylabel('Total Value of Goods')\n",
    "plt.show()"
   ],
   "metadata": {
    "collapsed": false
   },
   "id": "98dfb900d751901b",
   "outputs": [],
   "execution_count": null
  },
  {
   "cell_type": "code",
   "source": [
    "tax_columns = ['Taksa Doganës', 'Taksa Akcizës', 'Taksa TVSH-së']\n",
    "total_taxes = df[tax_columns].sum()\n",
    "plt.figure(figsize=(8, 6))\n",
    "total_taxes.plot(kind='bar', stacked=True)\n",
    "plt.title('Total Tax Contributions')\n",
    "plt.xlabel('Tax Type')\n",
    "plt.ylabel('Total Tax Amount')\n",
    "plt.show()"
   ],
   "metadata": {
    "collapsed": false
   },
   "id": "18c898c6da41e2d9",
   "outputs": [],
   "execution_count": null
  },
  {
   "cell_type": "code",
   "source": [
    "plt.figure(figsize=(10, 8))\n",
    "sns.heatmap(df[numeric_cols].corr(), annot=True, cmap='coolwarm')\n",
    "plt.title('Correlation Heatmap')\n",
    "plt.show()"
   ],
   "metadata": {
    "collapsed": false
   },
   "id": "cfb205605822cd89",
   "outputs": [],
   "execution_count": null
  },
  {
   "cell_type": "code",
   "source": [
    "distinct_origjina = df['Origjina'].unique()\n",
    "\n",
    "print(\"Distinct values in 'Origjina':\")\n",
    "for index, value in enumerate(distinct_origjina, 1):\n",
    "    print(f\"{index}. {value}\")"
   ],
   "metadata": {
    "collapsed": false
   },
   "id": "2a29b90f8c2f9502",
   "outputs": [],
   "execution_count": null
  },
  {
   "cell_type": "code",
   "source": [
    "distinct_origjina = df['Regjimi'].unique()\n",
    "\n",
    "print(\"Distinct values in 'Regjimi':\")\n",
    "for index, value in enumerate(distinct_origjina, 1):\n",
    "    print(f\"{index}. {value}\")"
   ],
   "metadata": {
    "collapsed": false
   },
   "id": "7e8eab03a294d695",
   "outputs": [],
   "execution_count": null
  },
  {
   "cell_type": "code",
   "source": [
    "distinct_origjina = df['Kodi Tarifor'].unique()\n",
    "\n",
    "print(\"Distinct values in 'Kodi Tarifor':\")\n",
    "for index, value in enumerate(distinct_origjina, 1):\n",
    "    print(f\"{index}. {value}\")"
   ],
   "metadata": {
    "collapsed": false
   },
   "id": "eceb2ba653dc2d23",
   "outputs": [],
   "execution_count": null
  },
  {
   "cell_type": "code",
   "source": [
    "missing_values = df.isnull().sum()\n",
    "missing_values"
   ],
   "metadata": {
    "collapsed": false
   },
   "id": "a71142da9bf60569",
   "outputs": [],
   "execution_count": null
  },
  {
   "cell_type": "code",
   "source": [
    "total_dataset = np.prod(df.shape)\n",
    "total_missing = missing_values.sum()\n",
    "percent = (total_missing / total_dataset) * 100\n",
    "percent"
   ],
   "metadata": {
    "collapsed": false
   },
   "id": "b9b95a0bc66f2802",
   "outputs": [],
   "execution_count": null
  },
  {
   "metadata": {},
   "cell_type": "code",
   "source": [
    "# Calculate and display missing values and their percentage, sorted by percentage\n",
    "missing_values = df.isnull().sum()\n",
    "missing_percentage = (missing_values / len(df)) * 100\n",
    "missing_data = pd.DataFrame({'Missing Values': missing_values, 'Percentage': missing_percentage})\n",
    "missing_data_sorted = missing_data[missing_data['Missing Values'] > 0].sort_values(by='Percentage', ascending=True)\n",
    "\n",
    "print(\"\\nMissing values in the dataset:\\n\", missing_data_sorted)"
   ],
   "id": "ee94e0339f86b5af",
   "outputs": [],
   "execution_count": null
  },
  {
   "metadata": {},
   "cell_type": "code",
   "source": [
    "# taking the numerical columns\n",
    "numeric_columns1 = df.select_dtypes(include=[np.number]).columns\n",
    "\n",
    "for column in numeric_columns1:\n",
    "    plt.figure(figsize=(14, 7))\n",
    "    \n",
    "    # Subplot 1: Kernel Density Estimation Plot\n",
    "    plt.subplot(1, 2, 1)\n",
    "    plt.title(f\"{column} - Almost Normal Distribution\", fontsize=15)\n",
    "    sns.kdeplot(data=df[column], fill=True, color=\"blue\", warn_singular=False)\n",
    "    \n",
    "    # Subplot 2: Box Plot\n",
    "    plt.subplot(1, 2, 2)\n",
    "    plt.title(f\"{column} - Skewed Distribution\", fontsize=15)\n",
    "    sns.boxplot(data=df[column], orient=\"h\")\n",
    "    \n",
    "    plt.tight_layout()\n",
    "    plt.show()"
   ],
   "id": "62bc236079a02a6b",
   "outputs": [],
   "execution_count": null
  },
  {
   "metadata": {},
   "cell_type": "code",
   "source": [
    "def detect_outliers_with_plot(df):\n",
    "   \n",
    "   #taking the numeric columns\n",
    "    numeric_columns = df.select_dtypes(include=[np.number]).columns\n",
    "    \n",
    "    #making a copy of the dataset\n",
    "    df_cleaned = df.copy()\n",
    "    \n",
    "    plt.figure(figsize=(15, 10))\n",
    "    \n",
    "    for i, col in enumerate(numeric_columns, 1):\n",
    "        # Calculate Quartiles and IQR\n",
    "        \n",
    "        Q1 = df_cleaned[col].quantile(0.25)\n",
    "        Q3 = df_cleaned[col].quantile(0.75)\n",
    "        \n",
    "        IQR = Q3 - Q1\n",
    "        \n",
    "        # Determine outlier bounds\n",
    "        lower_bound = Q1 - 1.5 * IQR\n",
    "        upper_bound = Q3 + 1.5 * IQR\n",
    "        \n",
    "        # Remove outliers\n",
    "        df_cleaned = df_cleaned[(df_cleaned[col] >= lower_bound) & (df_cleaned[col] <= upper_bound)]\n",
    "        \n",
    "        # for each column a boxplot is created using Seaborn's boxplot function to visualize the distribution of the cleaned data (after outliers are removed)\n",
    "        plt.subplot(2, len(numeric_columns) // 2 + 1, i)\n",
    "        sns.boxplot(x=df_cleaned[col])\n",
    "        plt.title(f'Boxplot për {col}')\n",
    "    \n",
    "    plt.tight_layout()\n",
    "    plt.show()\n",
    "    \n",
    "    return df_cleaned\n",
    "\n",
    "df_cleaned = detect_outliers_with_plot(df)"
   ],
   "id": "64011cf791587cb7",
   "outputs": [],
   "execution_count": null
  },
  {
   "metadata": {},
   "cell_type": "code",
   "source": [
    "# Calculation of the first and third quartiles\n",
    "Q1 = df['Sasia'].quantile(0.25)  # 25% percentile (Q1)\n",
    "Q3 = df['Sasia'].quantile(0.75)  # 75% percentile (Q3)\n",
    "IQR = Q3 - Q1  # Interquartile Range (IQR), which is the difference between Q3 and Q1\n",
    "\n",
    "# Detecting outliers\n",
    "outliersSasia = df[(df['Sasia'] < (Q1 - 1.5 * IQR)) | (df['Sasia'] > (Q3 + 1.5 * IQR))]\n",
    "# Filter rows where Sasia is less than the lower bound or greater than the upper bound of the IQR\n",
    "\n",
    "print(\"Numri i zbulimeve jo të sakta:\", len(outliersSasia))  "
   ],
   "id": "a4112b81e70bc1e5",
   "outputs": [],
   "execution_count": null
  },
  {
   "metadata": {},
   "cell_type": "code",
   "source": [
    "# Correlation between numerical columns\n",
    "df_cleaned.corr(numeric_only=True)"
   ],
   "id": "3b6f39563c57c4b4",
   "outputs": [],
   "execution_count": null
  },
  {
   "metadata": {},
   "cell_type": "code",
   "source": [
    "# Histogram for data distribution before cleaning\n",
    "df['Netweight'].hist(bins=20)  # Creating a histogram for 'Netweight' before cleaning with 20 bins\n",
    "plt.title('Histogram of Netweight')  \n",
    "plt.xlabel('Netweight') \n",
    "plt.ylabel('Frequency') \n",
    "plt.show() \n",
    "\n",
    "# Histogram for data distribution after cleaning\n",
    "df_cleaned['Netweight'].hist(bins=20)  # Creating a histogram for 'Netweight' after cleaning with 20 bins\n",
    "plt.title('Histogram of Netweight')  \n",
    "plt.xlabel('Netweight') \n",
    "plt.ylabel('Frequency') \n",
    "plt.show() "
   ],
   "id": "1e32da94828136dc",
   "outputs": [],
   "execution_count": null
  },
  {
   "metadata": {},
   "cell_type": "code",
   "source": [
    "# Heatmap for correlation between numeric columns\n",
    "sns.heatmap(df_cleaned.corr(numeric_only=True), annot=True, cmap=\"coolwarm\", fmt=\".2f\")\n",
    "plt.show()"
   ],
   "id": "fb9079e7baf0fb1",
   "outputs": [],
   "execution_count": null
  },
  {
   "metadata": {},
   "cell_type": "code",
   "source": [
    "def plotScatterMatrix(df, plotSize, textSize):\n",
    "    df = df.select_dtypes(include =[np.number])  # keep only numerical columns\n",
    "    # Remove columns that would lead to df being singular\n",
    "    df = df.dropna(axis=1)  # drop columns with any missing values\n",
    "    df = df[[col for col in df if df[col].nunique() > 1]]  # keep columns with more than 1 unique value\n",
    "    columnNames = list(df)\n",
    "    if len(columnNames) > 10:  # reduce the number of columns for matrix inversion of kernel density plots\n",
    "        columnNames = columnNames[:10]\n",
    "    df = df[columnNames]\n",
    "    \n",
    "    ax = pd.plotting.scatter_matrix(df, alpha=0.75, figsize=[plotSize, plotSize], diagonal='kde')\n",
    "    corrs = df.corr().values\n",
    "    for i, j in zip(*plt.np.triu_indices_from(ax, k=1)):\n",
    "        ax[i, j].annotate('Corr. coef = %.3f' % corrs[i, j], (0.8, 0.2), xycoords='axes fraction', ha='center', va='center', size=textSize)\n",
    "    \n",
    "    plt.suptitle('Scatter and Density Plot')\n",
    "    plt.show()"
   ],
   "id": "4427c87ada79c2b0",
   "outputs": [],
   "execution_count": null
  },
  {
   "metadata": {},
   "cell_type": "code",
   "source": "plotScatterMatrix(df_cleaned, 20, 10)",
   "id": "b7704c1c2d007b5",
   "outputs": [],
   "execution_count": null
  },
  {
   "cell_type": "markdown",
   "source": [
    "To do:\n",
    "# me i transformu keto shtet ne shkurtesa \n",
    "# me i trasformu produktet vetem me kode"
   ],
   "metadata": {
    "collapsed": false
   },
   "id": "6d5004299ed82e12"
  }
 ],
 "metadata": {
  "kernelspec": {
   "display_name": "Python 3",
   "language": "python",
   "name": "python3"
  },
  "language_info": {
   "codemirror_mode": {
    "name": "ipython",
    "version": 2
   },
   "file_extension": ".py",
   "mimetype": "text/x-python",
   "name": "python",
   "nbconvert_exporter": "python",
   "pygments_lexer": "ipython2",
   "version": "2.7.6"
  }
 },
 "nbformat": 4,
 "nbformat_minor": 5
}
